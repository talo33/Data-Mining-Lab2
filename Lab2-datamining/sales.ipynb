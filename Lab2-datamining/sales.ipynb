{
 "cells": [
  {
   "cell_type": "code",
   "execution_count": 3,
   "metadata": {},
   "outputs": [],
   "source": [
    "import pandas as pd\n",
    "import matplotlib.pyplot as plt\n",
    "import seaborn\n",
    "import re"
   ]
  },
  {
   "cell_type": "markdown",
   "metadata": {},
   "source": [
    "#### Import the data and get a high-level picture"
   ]
  },
  {
   "cell_type": "code",
   "execution_count": 6,
   "metadata": {},
   "outputs": [
    {
     "data": {
      "text/html": [
       "<div>\n",
       "<style scoped>\n",
       "    .dataframe tbody tr th:only-of-type {\n",
       "        vertical-align: middle;\n",
       "    }\n",
       "\n",
       "    .dataframe tbody tr th {\n",
       "        vertical-align: top;\n",
       "    }\n",
       "\n",
       "    .dataframe thead th {\n",
       "        text-align: right;\n",
       "    }\n",
       "</style>\n",
       "<table border=\"1\" class=\"dataframe\">\n",
       "  <thead>\n",
       "    <tr style=\"text-align: right;\">\n",
       "      <th></th>\n",
       "      <th>order_id</th>\n",
       "      <th>name</th>\n",
       "      <th>ordered_at</th>\n",
       "      <th>price</th>\n",
       "      <th>quantity</th>\n",
       "      <th>line_total</th>\n",
       "    </tr>\n",
       "  </thead>\n",
       "  <tbody>\n",
       "    <tr>\n",
       "      <th>0</th>\n",
       "      <td>10000</td>\n",
       "      <td>\"ICE CREAM\" Peanut Fudge</td>\n",
       "      <td>2018-01-01 11:30:00</td>\n",
       "      <td>$3.50</td>\n",
       "      <td>3</td>\n",
       "      <td>$10.50</td>\n",
       "    </tr>\n",
       "    <tr>\n",
       "      <th>1</th>\n",
       "      <td>10000</td>\n",
       "      <td>\"ICE CREAM\" Peanut Fudge</td>\n",
       "      <td>2018-01-01 11:30:00</td>\n",
       "      <td>$3.50</td>\n",
       "      <td>1</td>\n",
       "      <td>$3.50</td>\n",
       "    </tr>\n",
       "    <tr>\n",
       "      <th>2</th>\n",
       "      <td>10001</td>\n",
       "      <td>\"SORBET\" Raspberry</td>\n",
       "      <td>2018-01-01 12:14:54</td>\n",
       "      <td>$2.50</td>\n",
       "      <td>2</td>\n",
       "      <td>$5.00</td>\n",
       "    </tr>\n",
       "    <tr>\n",
       "      <th>3</th>\n",
       "      <td>10001</td>\n",
       "      <td>NaN</td>\n",
       "      <td>2018-01-01 12:14:54</td>\n",
       "      <td>$1.50</td>\n",
       "      <td>1</td>\n",
       "      <td>$1.50</td>\n",
       "    </tr>\n",
       "    <tr>\n",
       "      <th>4</th>\n",
       "      <td>10001</td>\n",
       "      <td>\"CONE\" Dipped Waffle Cone</td>\n",
       "      <td>2018-01-01 12:14:54</td>\n",
       "      <td>$3.50</td>\n",
       "      <td>1</td>\n",
       "      <td>$3.50</td>\n",
       "    </tr>\n",
       "  </tbody>\n",
       "</table>\n",
       "</div>"
      ],
      "text/plain": [
       "   order_id                       name           ordered_at  price  quantity  \\\n",
       "0     10000   \"ICE CREAM\" Peanut Fudge  2018-01-01 11:30:00  $3.50         3   \n",
       "1     10000   \"ICE CREAM\" Peanut Fudge  2018-01-01 11:30:00  $3.50         1   \n",
       "2     10001         \"SORBET\" Raspberry  2018-01-01 12:14:54  $2.50         2   \n",
       "3     10001                        NaN  2018-01-01 12:14:54  $1.50         1   \n",
       "4     10001  \"CONE\" Dipped Waffle Cone  2018-01-01 12:14:54  $3.50         1   \n",
       "\n",
       "  line_total  \n",
       "0     $10.50  \n",
       "1      $3.50  \n",
       "2      $5.00  \n",
       "3      $1.50  \n",
       "4      $3.50  "
      ]
     },
     "execution_count": 6,
     "metadata": {},
     "output_type": "execute_result"
    }
   ],
   "source": [
    "df = pd.read_csv('sales.csv')\n",
    "df.head()"
   ]
  },
  {
   "cell_type": "code",
   "execution_count": 7,
   "metadata": {},
   "outputs": [
    {
     "data": {
      "text/plain": [
       "(29922, 6)"
      ]
     },
     "execution_count": 7,
     "metadata": {},
     "output_type": "execute_result"
    }
   ],
   "source": [
    "df.shape"
   ]
  },
  {
   "cell_type": "code",
   "execution_count": 8,
   "metadata": {},
   "outputs": [
    {
     "data": {
      "text/plain": [
       "order_id       int64\n",
       "name          object\n",
       "ordered_at    object\n",
       "price         object\n",
       "quantity       int64\n",
       "line_total    object\n",
       "dtype: object"
      ]
     },
     "execution_count": 8,
     "metadata": {},
     "output_type": "execute_result"
    }
   ],
   "source": [
    "df.dtypes"
   ]
  },
  {
   "cell_type": "markdown",
   "metadata": {},
   "source": [
    "#### TODO: Fix column datatypes\n",
    "\n",
    "Change ordered_at to datetime\n",
    "\n",
    "Change price and line_total to float"
   ]
  },
  {
   "cell_type": "code",
   "execution_count": 5,
   "metadata": {},
   "outputs": [],
   "source": []
  },
  {
   "cell_type": "code",
   "execution_count": 6,
   "metadata": {},
   "outputs": [],
   "source": []
  },
  {
   "cell_type": "code",
   "execution_count": 9,
   "metadata": {},
   "outputs": [
    {
     "data": {
      "text/plain": [
       "order_id       int64\n",
       "name          object\n",
       "ordered_at    object\n",
       "price         object\n",
       "quantity       int64\n",
       "line_total    object\n",
       "dtype: object"
      ]
     },
     "execution_count": 9,
     "metadata": {},
     "output_type": "execute_result"
    }
   ],
   "source": [
    "df.dtypes"
   ]
  },
  {
   "cell_type": "markdown",
   "metadata": {},
   "source": [
    "#### TODO: drop if duplicated or null"
   ]
  },
  {
   "cell_type": "code",
   "execution_count": 10,
   "metadata": {},
   "outputs": [
    {
     "data": {
      "text/plain": [
       "538"
      ]
     },
     "execution_count": 10,
     "metadata": {},
     "output_type": "execute_result"
    }
   ],
   "source": [
    "df[df.duplicated()].shape[0]"
   ]
  },
  {
   "cell_type": "code",
   "execution_count": 9,
   "metadata": {},
   "outputs": [],
   "source": []
  },
  {
   "cell_type": "code",
   "execution_count": 11,
   "metadata": {},
   "outputs": [
    {
     "data": {
      "text/plain": [
       "order_id         0\n",
       "name          1488\n",
       "ordered_at       0\n",
       "price            0\n",
       "quantity         0\n",
       "line_total       0\n",
       "dtype: int64"
      ]
     },
     "execution_count": 11,
     "metadata": {},
     "output_type": "execute_result"
    }
   ],
   "source": [
    "df.isnull().sum()"
   ]
  },
  {
   "cell_type": "code",
   "execution_count": 12,
   "metadata": {},
   "outputs": [
    {
     "data": {
      "text/html": [
       "<div>\n",
       "<style scoped>\n",
       "    .dataframe tbody tr th:only-of-type {\n",
       "        vertical-align: middle;\n",
       "    }\n",
       "\n",
       "    .dataframe tbody tr th {\n",
       "        vertical-align: top;\n",
       "    }\n",
       "\n",
       "    .dataframe thead th {\n",
       "        text-align: right;\n",
       "    }\n",
       "</style>\n",
       "<table border=\"1\" class=\"dataframe\">\n",
       "  <thead>\n",
       "    <tr style=\"text-align: right;\">\n",
       "      <th></th>\n",
       "      <th>order_id</th>\n",
       "      <th>name</th>\n",
       "      <th>ordered_at</th>\n",
       "      <th>price</th>\n",
       "      <th>quantity</th>\n",
       "      <th>line_total</th>\n",
       "    </tr>\n",
       "  </thead>\n",
       "  <tbody>\n",
       "    <tr>\n",
       "      <th>3</th>\n",
       "      <td>10001</td>\n",
       "      <td>NaN</td>\n",
       "      <td>2018-01-01 12:14:54</td>\n",
       "      <td>$1.50</td>\n",
       "      <td>1</td>\n",
       "      <td>$1.50</td>\n",
       "    </tr>\n",
       "    <tr>\n",
       "      <th>6</th>\n",
       "      <td>10002</td>\n",
       "      <td>NaN</td>\n",
       "      <td>2018-01-01 12:23:09</td>\n",
       "      <td>$3.00</td>\n",
       "      <td>3</td>\n",
       "      <td>$9.00</td>\n",
       "    </tr>\n",
       "    <tr>\n",
       "      <th>27</th>\n",
       "      <td>10007</td>\n",
       "      <td>NaN</td>\n",
       "      <td>2018-01-01 15:03:17</td>\n",
       "      <td>$2.50</td>\n",
       "      <td>1</td>\n",
       "      <td>$2.50</td>\n",
       "    </tr>\n",
       "    <tr>\n",
       "      <th>77</th>\n",
       "      <td>10026</td>\n",
       "      <td>NaN</td>\n",
       "      <td>2018-01-02 03:25:40</td>\n",
       "      <td>$0.50</td>\n",
       "      <td>2</td>\n",
       "      <td>$1.00</td>\n",
       "    </tr>\n",
       "    <tr>\n",
       "      <th>88</th>\n",
       "      <td>10031</td>\n",
       "      <td>NaN</td>\n",
       "      <td>2018-01-02 05:45:48</td>\n",
       "      <td>$3.50</td>\n",
       "      <td>3</td>\n",
       "      <td>$10.50</td>\n",
       "    </tr>\n",
       "  </tbody>\n",
       "</table>\n",
       "</div>"
      ],
      "text/plain": [
       "    order_id name           ordered_at  price  quantity line_total\n",
       "3      10001  NaN  2018-01-01 12:14:54  $1.50         1      $1.50\n",
       "6      10002  NaN  2018-01-01 12:23:09  $3.00         3      $9.00\n",
       "27     10007  NaN  2018-01-01 15:03:17  $2.50         1      $2.50\n",
       "77     10026  NaN  2018-01-02 03:25:40  $0.50         2      $1.00\n",
       "88     10031  NaN  2018-01-02 05:45:48  $3.50         3     $10.50"
      ]
     },
     "execution_count": 12,
     "metadata": {},
     "output_type": "execute_result"
    }
   ],
   "source": [
    "df[df['name'].isnull()].head()"
   ]
  },
  {
   "cell_type": "code",
   "execution_count": 12,
   "metadata": {},
   "outputs": [],
   "source": []
  },
  {
   "cell_type": "markdown",
   "metadata": {},
   "source": [
    "#### Sanity check for value ranges and to check assumptions"
   ]
  },
  {
   "cell_type": "code",
   "execution_count": 15,
   "metadata": {},
   "outputs": [
    {
     "data": {
      "text/plain": [
       "19924"
      ]
     },
     "execution_count": 15,
     "metadata": {},
     "output_type": "execute_result"
    }
   ],
   "source": [
    "df[(df['price'] * df['quantity']) != df['line_total']].shape[0]"
   ]
  },
  {
   "cell_type": "code",
   "execution_count": 17,
   "metadata": {},
   "outputs": [],
   "source": [
    "# df[df['line_total'] < 0].shape[0]\n",
    "df['line_total'] = pd.to_numeric(df['line_total'], errors='coerce')\n"
   ]
  },
  {
   "cell_type": "markdown",
   "metadata": {},
   "source": [
    "#### TODO: \n",
    "Set line_total = price * quantity if different\n",
    "Remove if line total < 0"
   ]
  },
  {
   "cell_type": "code",
   "execution_count": 15,
   "metadata": {},
   "outputs": [],
   "source": []
  },
  {
   "cell_type": "code",
   "execution_count": 16,
   "metadata": {},
   "outputs": [],
   "source": []
  },
  {
   "cell_type": "code",
   "execution_count": 18,
   "metadata": {},
   "outputs": [
    {
     "data": {
      "text/html": [
       "<div>\n",
       "<style scoped>\n",
       "    .dataframe tbody tr th:only-of-type {\n",
       "        vertical-align: middle;\n",
       "    }\n",
       "\n",
       "    .dataframe tbody tr th {\n",
       "        vertical-align: top;\n",
       "    }\n",
       "\n",
       "    .dataframe thead th {\n",
       "        text-align: right;\n",
       "    }\n",
       "</style>\n",
       "<table border=\"1\" class=\"dataframe\">\n",
       "  <thead>\n",
       "    <tr style=\"text-align: right;\">\n",
       "      <th></th>\n",
       "      <th>order_id</th>\n",
       "      <th>quantity</th>\n",
       "      <th>line_total</th>\n",
       "    </tr>\n",
       "  </thead>\n",
       "  <tbody>\n",
       "    <tr>\n",
       "      <th>count</th>\n",
       "      <td>29922.000000</td>\n",
       "      <td>29922.000000</td>\n",
       "      <td>0.0</td>\n",
       "    </tr>\n",
       "    <tr>\n",
       "      <th>mean</th>\n",
       "      <td>14992.538701</td>\n",
       "      <td>2.002105</td>\n",
       "      <td>NaN</td>\n",
       "    </tr>\n",
       "    <tr>\n",
       "      <th>std</th>\n",
       "      <td>2889.466576</td>\n",
       "      <td>0.819225</td>\n",
       "      <td>NaN</td>\n",
       "    </tr>\n",
       "    <tr>\n",
       "      <th>min</th>\n",
       "      <td>10000.000000</td>\n",
       "      <td>1.000000</td>\n",
       "      <td>NaN</td>\n",
       "    </tr>\n",
       "    <tr>\n",
       "      <th>25%</th>\n",
       "      <td>12498.000000</td>\n",
       "      <td>1.000000</td>\n",
       "      <td>NaN</td>\n",
       "    </tr>\n",
       "    <tr>\n",
       "      <th>50%</th>\n",
       "      <td>14972.000000</td>\n",
       "      <td>2.000000</td>\n",
       "      <td>NaN</td>\n",
       "    </tr>\n",
       "    <tr>\n",
       "      <th>75%</th>\n",
       "      <td>17506.750000</td>\n",
       "      <td>3.000000</td>\n",
       "      <td>NaN</td>\n",
       "    </tr>\n",
       "    <tr>\n",
       "      <th>max</th>\n",
       "      <td>19999.000000</td>\n",
       "      <td>3.000000</td>\n",
       "      <td>NaN</td>\n",
       "    </tr>\n",
       "  </tbody>\n",
       "</table>\n",
       "</div>"
      ],
      "text/plain": [
       "           order_id      quantity  line_total\n",
       "count  29922.000000  29922.000000         0.0\n",
       "mean   14992.538701      2.002105         NaN\n",
       "std     2889.466576      0.819225         NaN\n",
       "min    10000.000000      1.000000         NaN\n",
       "25%    12498.000000      1.000000         NaN\n",
       "50%    14972.000000      2.000000         NaN\n",
       "75%    17506.750000      3.000000         NaN\n",
       "max    19999.000000      3.000000         NaN"
      ]
     },
     "execution_count": 18,
     "metadata": {},
     "output_type": "execute_result"
    }
   ],
   "source": [
    "df.describe()"
   ]
  },
  {
   "cell_type": "markdown",
   "metadata": {},
   "source": [
    "#### TODO: Get value between \"\" in name and put it in category column"
   ]
  },
  {
   "cell_type": "code",
   "execution_count": 18,
   "metadata": {},
   "outputs": [],
   "source": []
  },
  {
   "cell_type": "code",
   "execution_count": 19,
   "metadata": {},
   "outputs": [
    {
     "data": {
      "text/html": [
       "<div>\n",
       "<style scoped>\n",
       "    .dataframe tbody tr th:only-of-type {\n",
       "        vertical-align: middle;\n",
       "    }\n",
       "\n",
       "    .dataframe tbody tr th {\n",
       "        vertical-align: top;\n",
       "    }\n",
       "\n",
       "    .dataframe thead th {\n",
       "        text-align: right;\n",
       "    }\n",
       "</style>\n",
       "<table border=\"1\" class=\"dataframe\">\n",
       "  <thead>\n",
       "    <tr style=\"text-align: right;\">\n",
       "      <th></th>\n",
       "      <th>order_id</th>\n",
       "      <th>name</th>\n",
       "      <th>ordered_at</th>\n",
       "      <th>price</th>\n",
       "      <th>quantity</th>\n",
       "      <th>line_total</th>\n",
       "    </tr>\n",
       "  </thead>\n",
       "  <tbody>\n",
       "    <tr>\n",
       "      <th>0</th>\n",
       "      <td>10000</td>\n",
       "      <td>\"ICE CREAM\" Peanut Fudge</td>\n",
       "      <td>2018-01-01 11:30:00</td>\n",
       "      <td>$3.50</td>\n",
       "      <td>3</td>\n",
       "      <td>NaN</td>\n",
       "    </tr>\n",
       "    <tr>\n",
       "      <th>1</th>\n",
       "      <td>10000</td>\n",
       "      <td>\"ICE CREAM\" Peanut Fudge</td>\n",
       "      <td>2018-01-01 11:30:00</td>\n",
       "      <td>$3.50</td>\n",
       "      <td>1</td>\n",
       "      <td>NaN</td>\n",
       "    </tr>\n",
       "    <tr>\n",
       "      <th>2</th>\n",
       "      <td>10001</td>\n",
       "      <td>\"SORBET\" Raspberry</td>\n",
       "      <td>2018-01-01 12:14:54</td>\n",
       "      <td>$2.50</td>\n",
       "      <td>2</td>\n",
       "      <td>NaN</td>\n",
       "    </tr>\n",
       "    <tr>\n",
       "      <th>3</th>\n",
       "      <td>10001</td>\n",
       "      <td>NaN</td>\n",
       "      <td>2018-01-01 12:14:54</td>\n",
       "      <td>$1.50</td>\n",
       "      <td>1</td>\n",
       "      <td>NaN</td>\n",
       "    </tr>\n",
       "    <tr>\n",
       "      <th>4</th>\n",
       "      <td>10001</td>\n",
       "      <td>\"CONE\" Dipped Waffle Cone</td>\n",
       "      <td>2018-01-01 12:14:54</td>\n",
       "      <td>$3.50</td>\n",
       "      <td>1</td>\n",
       "      <td>NaN</td>\n",
       "    </tr>\n",
       "  </tbody>\n",
       "</table>\n",
       "</div>"
      ],
      "text/plain": [
       "   order_id                       name           ordered_at  price  quantity  \\\n",
       "0     10000   \"ICE CREAM\" Peanut Fudge  2018-01-01 11:30:00  $3.50         3   \n",
       "1     10000   \"ICE CREAM\" Peanut Fudge  2018-01-01 11:30:00  $3.50         1   \n",
       "2     10001         \"SORBET\" Raspberry  2018-01-01 12:14:54  $2.50         2   \n",
       "3     10001                        NaN  2018-01-01 12:14:54  $1.50         1   \n",
       "4     10001  \"CONE\" Dipped Waffle Cone  2018-01-01 12:14:54  $3.50         1   \n",
       "\n",
       "   line_total  \n",
       "0         NaN  \n",
       "1         NaN  \n",
       "2         NaN  \n",
       "3         NaN  \n",
       "4         NaN  "
      ]
     },
     "execution_count": 19,
     "metadata": {},
     "output_type": "execute_result"
    }
   ],
   "source": [
    "df.head()"
   ]
  },
  {
   "cell_type": "markdown",
   "metadata": {},
   "source": [
    "#### Analysis, finally!"
   ]
  },
  {
   "cell_type": "code",
   "execution_count": 20,
   "metadata": {},
   "outputs": [
    {
     "data": {
      "image/png": "[encoded data removed]",
      "text/plain": [
       "<Figure size 1000x600 with 1 Axes>"
      ]
     },
     "metadata": {},
     "output_type": "display_data"
    }
   ],
   "source": [
    "f, ax = plt.subplots(figsize=(10, 6))\n",
    "df.groupby('name')['line_total'].sum().sort_values(ascending=False).head(10).plot(kind='bar')\n",
    "f.autofmt_xdate()\n",
    "plt.show()"
   ]
  },
  {
   "cell_type": "code",
   "execution_count": 22,
   "metadata": {},
   "outputs": [],
   "source": [
    "df = pd.read_csv('sales.csv')"
   ]
  },
  {
   "cell_type": "code",
   "execution_count": 23,
   "metadata": {},
   "outputs": [
    {
     "name": "stdout",
     "output_type": "stream",
     "text": [
      "order_id       int64\n",
      "name          object\n",
      "ordered_at    object\n",
      "price         object\n",
      "quantity       int64\n",
      "line_total    object\n",
      "dtype: object\n"
     ]
    }
   ],
   "source": [
    "print(df.dtypes)"
   ]
  },
  {
   "cell_type": "code",
   "execution_count": 25,
   "metadata": {},
   "outputs": [],
   "source": [
    "df['col1'] = df['order_id'].astype(int)"
   ]
  },
  {
   "cell_type": "code",
   "execution_count": 26,
   "metadata": {},
   "outputs": [
    {
     "name": "stdout",
     "output_type": "stream",
     "text": [
      "order_id       int64\n",
      "name          object\n",
      "ordered_at    object\n",
      "price         object\n",
      "quantity       int64\n",
      "line_total    object\n",
      "col1           int32\n",
      "dtype: object\n"
     ]
    }
   ],
   "source": [
    "print(df.dtypes)"
   ]
  },
  {
   "cell_type": "code",
   "execution_count": 27,
   "metadata": {},
   "outputs": [],
   "source": [
    "df['col1'] = pd.to_numeric(df['col1'], errors='coerce')"
   ]
  },
  {
   "cell_type": "code",
   "execution_count": 28,
   "metadata": {},
   "outputs": [
    {
     "name": "stdout",
     "output_type": "stream",
     "text": [
      "order_id       int64\n",
      "name          object\n",
      "ordered_at    object\n",
      "price         object\n",
      "quantity       int64\n",
      "line_total    object\n",
      "col1           int32\n",
      "dtype: object\n"
     ]
    }
   ],
   "source": [
    "print(df.dtypes)"
   ]
  },
  {
   "cell_type": "code",
   "execution_count": 29,
   "metadata": {},
   "outputs": [],
   "source": [
    "df = pd.read_csv('sales.csv')"
   ]
  },
  {
   "cell_type": "code",
   "execution_count": 30,
   "metadata": {},
   "outputs": [
    {
     "data": {
      "text/html": [
       "<div>\n",
       "<style scoped>\n",
       "    .dataframe tbody tr th:only-of-type {\n",
       "        vertical-align: middle;\n",
       "    }\n",
       "\n",
       "    .dataframe tbody tr th {\n",
       "        vertical-align: top;\n",
       "    }\n",
       "\n",
       "    .dataframe thead th {\n",
       "        text-align: right;\n",
       "    }\n",
       "</style>\n",
       "<table border=\"1\" class=\"dataframe\">\n",
       "  <thead>\n",
       "    <tr style=\"text-align: right;\">\n",
       "      <th></th>\n",
       "      <th>order_id</th>\n",
       "      <th>name</th>\n",
       "      <th>ordered_at</th>\n",
       "      <th>price</th>\n",
       "      <th>quantity</th>\n",
       "      <th>line_total</th>\n",
       "    </tr>\n",
       "  </thead>\n",
       "  <tbody>\n",
       "    <tr>\n",
       "      <th>0</th>\n",
       "      <td>10000</td>\n",
       "      <td>\"ICE CREAM\" Peanut Fudge</td>\n",
       "      <td>2018-01-01 11:30:00</td>\n",
       "      <td>$3.50</td>\n",
       "      <td>3</td>\n",
       "      <td>$10.50</td>\n",
       "    </tr>\n",
       "    <tr>\n",
       "      <th>1</th>\n",
       "      <td>10000</td>\n",
       "      <td>\"ICE CREAM\" Peanut Fudge</td>\n",
       "      <td>2018-01-01 11:30:00</td>\n",
       "      <td>$3.50</td>\n",
       "      <td>1</td>\n",
       "      <td>$3.50</td>\n",
       "    </tr>\n",
       "    <tr>\n",
       "      <th>2</th>\n",
       "      <td>10001</td>\n",
       "      <td>\"SORBET\" Raspberry</td>\n",
       "      <td>2018-01-01 12:14:54</td>\n",
       "      <td>$2.50</td>\n",
       "      <td>2</td>\n",
       "      <td>$5.00</td>\n",
       "    </tr>\n",
       "    <tr>\n",
       "      <th>3</th>\n",
       "      <td>10001</td>\n",
       "      <td>NaN</td>\n",
       "      <td>2018-01-01 12:14:54</td>\n",
       "      <td>$1.50</td>\n",
       "      <td>1</td>\n",
       "      <td>$1.50</td>\n",
       "    </tr>\n",
       "    <tr>\n",
       "      <th>4</th>\n",
       "      <td>10001</td>\n",
       "      <td>\"CONE\" Dipped Waffle Cone</td>\n",
       "      <td>2018-01-01 12:14:54</td>\n",
       "      <td>$3.50</td>\n",
       "      <td>1</td>\n",
       "      <td>$3.50</td>\n",
       "    </tr>\n",
       "    <tr>\n",
       "      <th>...</th>\n",
       "      <td>...</td>\n",
       "      <td>...</td>\n",
       "      <td>...</td>\n",
       "      <td>...</td>\n",
       "      <td>...</td>\n",
       "      <td>...</td>\n",
       "    </tr>\n",
       "    <tr>\n",
       "      <th>29917</th>\n",
       "      <td>18452</td>\n",
       "      <td>\"ICE CREAM\" Dulce De Leche</td>\n",
       "      <td>2018-06-26 03:56:13</td>\n",
       "      <td>$-1.50</td>\n",
       "      <td>2</td>\n",
       "      <td>$-3.00</td>\n",
       "    </tr>\n",
       "    <tr>\n",
       "      <th>29918</th>\n",
       "      <td>12889</td>\n",
       "      <td>\"ICE CREAM\" Dark Chocolate</td>\n",
       "      <td>2018-03-03 10:06:21</td>\n",
       "      <td>$4.00</td>\n",
       "      <td>3</td>\n",
       "      <td>$12.00</td>\n",
       "    </tr>\n",
       "    <tr>\n",
       "      <th>29919</th>\n",
       "      <td>14526</td>\n",
       "      <td>\"ICE CREAM\" Peanut Fudge</td>\n",
       "      <td>2018-04-05 17:33:24</td>\n",
       "      <td>$3.50</td>\n",
       "      <td>3</td>\n",
       "      <td>$10.50</td>\n",
       "    </tr>\n",
       "    <tr>\n",
       "      <th>29920</th>\n",
       "      <td>19589</td>\n",
       "      <td>\"CONE\" Dipped Waffle Cone</td>\n",
       "      <td>2018-07-20 09:10:01</td>\n",
       "      <td>$3.50</td>\n",
       "      <td>2</td>\n",
       "      <td>$7.00</td>\n",
       "    </tr>\n",
       "    <tr>\n",
       "      <th>29921</th>\n",
       "      <td>19270</td>\n",
       "      <td>\"ICE CREAM\" Earl Gray</td>\n",
       "      <td>2018-07-13 09:20:21</td>\n",
       "      <td>$0.50</td>\n",
       "      <td>2</td>\n",
       "      <td>$1.00</td>\n",
       "    </tr>\n",
       "  </tbody>\n",
       "</table>\n",
       "<p>29922 rows × 6 columns</p>\n",
       "</div>"
      ],
      "text/plain": [
       "       order_id                        name           ordered_at   price  \\\n",
       "0         10000    \"ICE CREAM\" Peanut Fudge  2018-01-01 11:30:00   $3.50   \n",
       "1         10000    \"ICE CREAM\" Peanut Fudge  2018-01-01 11:30:00   $3.50   \n",
       "2         10001          \"SORBET\" Raspberry  2018-01-01 12:14:54   $2.50   \n",
       "3         10001                         NaN  2018-01-01 12:14:54   $1.50   \n",
       "4         10001   \"CONE\" Dipped Waffle Cone  2018-01-01 12:14:54   $3.50   \n",
       "...         ...                         ...                  ...     ...   \n",
       "29917     18452  \"ICE CREAM\" Dulce De Leche  2018-06-26 03:56:13  $-1.50   \n",
       "29918     12889  \"ICE CREAM\" Dark Chocolate  2018-03-03 10:06:21   $4.00   \n",
       "29919     14526    \"ICE CREAM\" Peanut Fudge  2018-04-05 17:33:24   $3.50   \n",
       "29920     19589   \"CONE\" Dipped Waffle Cone  2018-07-20 09:10:01   $3.50   \n",
       "29921     19270       \"ICE CREAM\" Earl Gray  2018-07-13 09:20:21   $0.50   \n",
       "\n",
       "       quantity line_total  \n",
       "0             3     $10.50  \n",
       "1             1      $3.50  \n",
       "2             2      $5.00  \n",
       "3             1      $1.50  \n",
       "4             1      $3.50  \n",
       "...         ...        ...  \n",
       "29917         2     $-3.00  \n",
       "29918         3     $12.00  \n",
       "29919         3     $10.50  \n",
       "29920         2      $7.00  \n",
       "29921         2      $1.00  \n",
       "\n",
       "[29922 rows x 6 columns]"
      ]
     },
     "execution_count": 30,
     "metadata": {},
     "output_type": "execute_result"
    }
   ],
   "source": [
    "df"
   ]
  },
  {
   "cell_type": "code",
   "execution_count": 31,
   "metadata": {},
   "outputs": [],
   "source": [
    "df = df.drop_duplicates()"
   ]
  },
  {
   "cell_type": "code",
   "execution_count": 32,
   "metadata": {},
   "outputs": [
    {
     "data": {
      "text/html": [
       "<div>\n",
       "<style scoped>\n",
       "    .dataframe tbody tr th:only-of-type {\n",
       "        vertical-align: middle;\n",
       "    }\n",
       "\n",
       "    .dataframe tbody tr th {\n",
       "        vertical-align: top;\n",
       "    }\n",
       "\n",
       "    .dataframe thead th {\n",
       "        text-align: right;\n",
       "    }\n",
       "</style>\n",
       "<table border=\"1\" class=\"dataframe\">\n",
       "  <thead>\n",
       "    <tr style=\"text-align: right;\">\n",
       "      <th></th>\n",
       "      <th>order_id</th>\n",
       "      <th>name</th>\n",
       "      <th>ordered_at</th>\n",
       "      <th>price</th>\n",
       "      <th>quantity</th>\n",
       "      <th>line_total</th>\n",
       "    </tr>\n",
       "  </thead>\n",
       "  <tbody>\n",
       "    <tr>\n",
       "      <th>0</th>\n",
       "      <td>10000</td>\n",
       "      <td>\"ICE CREAM\" Peanut Fudge</td>\n",
       "      <td>2018-01-01 11:30:00</td>\n",
       "      <td>$3.50</td>\n",
       "      <td>3</td>\n",
       "      <td>$10.50</td>\n",
       "    </tr>\n",
       "    <tr>\n",
       "      <th>1</th>\n",
       "      <td>10000</td>\n",
       "      <td>\"ICE CREAM\" Peanut Fudge</td>\n",
       "      <td>2018-01-01 11:30:00</td>\n",
       "      <td>$3.50</td>\n",
       "      <td>1</td>\n",
       "      <td>$3.50</td>\n",
       "    </tr>\n",
       "    <tr>\n",
       "      <th>2</th>\n",
       "      <td>10001</td>\n",
       "      <td>\"SORBET\" Raspberry</td>\n",
       "      <td>2018-01-01 12:14:54</td>\n",
       "      <td>$2.50</td>\n",
       "      <td>2</td>\n",
       "      <td>$5.00</td>\n",
       "    </tr>\n",
       "    <tr>\n",
       "      <th>3</th>\n",
       "      <td>10001</td>\n",
       "      <td>NaN</td>\n",
       "      <td>2018-01-01 12:14:54</td>\n",
       "      <td>$1.50</td>\n",
       "      <td>1</td>\n",
       "      <td>$1.50</td>\n",
       "    </tr>\n",
       "    <tr>\n",
       "      <th>4</th>\n",
       "      <td>10001</td>\n",
       "      <td>\"CONE\" Dipped Waffle Cone</td>\n",
       "      <td>2018-01-01 12:14:54</td>\n",
       "      <td>$3.50</td>\n",
       "      <td>1</td>\n",
       "      <td>$3.50</td>\n",
       "    </tr>\n",
       "    <tr>\n",
       "      <th>...</th>\n",
       "      <td>...</td>\n",
       "      <td>...</td>\n",
       "      <td>...</td>\n",
       "      <td>...</td>\n",
       "      <td>...</td>\n",
       "      <td>...</td>\n",
       "    </tr>\n",
       "    <tr>\n",
       "      <th>29817</th>\n",
       "      <td>19997</td>\n",
       "      <td>\"CONE\" Waffle Cone</td>\n",
       "      <td>2018-07-28 17:40:40</td>\n",
       "      <td>$4.00</td>\n",
       "      <td>3</td>\n",
       "      <td>$12.00</td>\n",
       "    </tr>\n",
       "    <tr>\n",
       "      <th>29818</th>\n",
       "      <td>19997</td>\n",
       "      <td>\"SORBET\" Blood Orange</td>\n",
       "      <td>2018-07-28 17:40:40</td>\n",
       "      <td>$2.50</td>\n",
       "      <td>3</td>\n",
       "      <td>$7.50</td>\n",
       "    </tr>\n",
       "    <tr>\n",
       "      <th>29819</th>\n",
       "      <td>19998</td>\n",
       "      <td>\"SORBET\" Lychee</td>\n",
       "      <td>2018-07-28 18:21:44</td>\n",
       "      <td>$3.00</td>\n",
       "      <td>1</td>\n",
       "      <td>$3.00</td>\n",
       "    </tr>\n",
       "    <tr>\n",
       "      <th>29820</th>\n",
       "      <td>19998</td>\n",
       "      <td>\"ICE CREAM\" Rocky Road</td>\n",
       "      <td>2018-07-28 18:21:44</td>\n",
       "      <td>$3.50</td>\n",
       "      <td>1</td>\n",
       "      <td>$3.50</td>\n",
       "    </tr>\n",
       "    <tr>\n",
       "      <th>29821</th>\n",
       "      <td>19999</td>\n",
       "      <td>\"SORBET\" Blood Orange</td>\n",
       "      <td>2018-07-28 18:51:57</td>\n",
       "      <td>$2.50</td>\n",
       "      <td>2</td>\n",
       "      <td>$5.00</td>\n",
       "    </tr>\n",
       "  </tbody>\n",
       "</table>\n",
       "<p>29384 rows × 6 columns</p>\n",
       "</div>"
      ],
      "text/plain": [
       "       order_id                       name           ordered_at  price  \\\n",
       "0         10000   \"ICE CREAM\" Peanut Fudge  2018-01-01 11:30:00  $3.50   \n",
       "1         10000   \"ICE CREAM\" Peanut Fudge  2018-01-01 11:30:00  $3.50   \n",
       "2         10001         \"SORBET\" Raspberry  2018-01-01 12:14:54  $2.50   \n",
       "3         10001                        NaN  2018-01-01 12:14:54  $1.50   \n",
       "4         10001  \"CONE\" Dipped Waffle Cone  2018-01-01 12:14:54  $3.50   \n",
       "...         ...                        ...                  ...    ...   \n",
       "29817     19997         \"CONE\" Waffle Cone  2018-07-28 17:40:40  $4.00   \n",
       "29818     19997      \"SORBET\" Blood Orange  2018-07-28 17:40:40  $2.50   \n",
       "29819     19998            \"SORBET\" Lychee  2018-07-28 18:21:44  $3.00   \n",
       "29820     19998     \"ICE CREAM\" Rocky Road  2018-07-28 18:21:44  $3.50   \n",
       "29821     19999      \"SORBET\" Blood Orange  2018-07-28 18:51:57  $2.50   \n",
       "\n",
       "       quantity line_total  \n",
       "0             3     $10.50  \n",
       "1             1      $3.50  \n",
       "2             2      $5.00  \n",
       "3             1      $1.50  \n",
       "4             1      $3.50  \n",
       "...         ...        ...  \n",
       "29817         3     $12.00  \n",
       "29818         3      $7.50  \n",
       "29819         1      $3.00  \n",
       "29820         1      $3.50  \n",
       "29821         2      $5.00  \n",
       "\n",
       "[29384 rows x 6 columns]"
      ]
     },
     "execution_count": 32,
     "metadata": {},
     "output_type": "execute_result"
    }
   ],
   "source": [
    "df"
   ]
  },
  {
   "cell_type": "code",
   "execution_count": 33,
   "metadata": {
    "tags": []
   },
   "outputs": [],
   "source": [
    "df = df.dropna()"
   ]
  },
  {
   "cell_type": "code",
   "execution_count": 34,
   "metadata": {},
   "outputs": [],
   "source": [
    "import re"
   ]
  },
  {
   "cell_type": "code",
   "execution_count": 38,
   "metadata": {},
   "outputs": [],
   "source": [
    "df = pd.read_csv('sales.csv')"
   ]
  },
  {
   "cell_type": "code",
   "execution_count": 59,
   "metadata": {},
   "outputs": [],
   "source": [
    "def extract_order_id(text):\n",
    "    order_regex = r\"ORDER-\\d+\" \n",
    "    order_ids = re.findall(order_regex, text) \n",
    "    if order_ids:\n",
    "        return order_ids[0]\n",
    "    else:\n",
    "        return None "
   ]
  },
  {
   "cell_type": "code",
   "execution_count": 47,
   "metadata": {},
   "outputs": [
    {
     "name": "stdout",
     "output_type": "stream",
     "text": [
      "0\n"
     ]
    }
   ],
   "source": [
    "print(df['order_id'].isna().sum())"
   ]
  },
  {
   "cell_type": "code",
   "execution_count": 48,
   "metadata": {},
   "outputs": [],
   "source": [
    "df['order_id'] = df['order_id'].astype(int)"
   ]
  },
  {
   "cell_type": "code",
   "execution_count": 50,
   "metadata": {},
   "outputs": [
    {
     "name": "stdout",
     "output_type": "stream",
     "text": [
      "[10000 10001 10002 ... 19997 19998 19999]\n"
     ]
    }
   ],
   "source": [
    "print(df['order_id'].unique())\n"
   ]
  },
  {
   "cell_type": "code",
   "execution_count": 51,
   "metadata": {},
   "outputs": [],
   "source": [
    "df = df.dropna(subset=['order_id'])\n"
   ]
  },
  {
   "cell_type": "code",
   "execution_count": 52,
   "metadata": {},
   "outputs": [],
   "source": [
    "df['order_id'] = df['order_id'].fillna(0)\n"
   ]
  },
  {
   "cell_type": "code",
   "execution_count": 53,
   "metadata": {},
   "outputs": [],
   "source": [
    "df['order_id'] = df['order_id'].astype(int)\n"
   ]
  },
  {
   "cell_type": "code",
   "execution_count": 55,
   "metadata": {},
   "outputs": [],
   "source": [
    "df['order_id'] = df['order_id'].astype(str)"
   ]
  },
  {
   "cell_type": "code",
   "execution_count": 56,
   "metadata": {},
   "outputs": [],
   "source": [
    "df['order_id'] = df['order_id'].apply(lambda x: extract_order_id(x))"
   ]
  },
  {
   "cell_type": "code",
   "execution_count": 57,
   "metadata": {},
   "outputs": [
    {
     "name": "stdout",
     "output_type": "stream",
     "text": [
      "Empty DataFrame\n",
      "Columns: [order_id, name, ordered_at, price, quantity, line_total]\n",
      "Index: []\n"
     ]
    }
   ],
   "source": [
    "print(df[df['order_id'].str.contains(r\"ORDER-\\d+\", na=False)])\n"
   ]
  },
  {
   "cell_type": "code",
   "execution_count": 58,
   "metadata": {},
   "outputs": [
    {
     "name": "stdout",
     "output_type": "stream",
     "text": [
      "29922\n"
     ]
    }
   ],
   "source": [
    "print(len(df))\n"
   ]
  },
  {
   "cell_type": "code",
   "execution_count": null,
   "metadata": {},
   "outputs": [],
   "source": []
  }
 ],
 "metadata": {
  "kernelspec": {
   "display_name": "Python 3 (ipykernel)",
   "language": "python",
   "name": "python3"
  },
  "language_info": {
   "codemirror_mode": {
    "name": "ipython",
    "version": 3
   },
   "file_extension": ".py",
   "mimetype": "text/x-python",
   "name": "python",
   "nbconvert_exporter": "python",
   "pygments_lexer": "ipython3",
   "version": "3.9.13"
  }
 },
 "nbformat": 4,
 "nbformat_minor": 4
}
