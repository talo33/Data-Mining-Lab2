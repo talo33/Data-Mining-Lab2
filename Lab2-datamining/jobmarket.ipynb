{
 "cells": [
  {
   "cell_type": "code",
   "execution_count": 4,
   "id": "8424ac86-692f-4109-a706-2c6430be657b",
   "metadata": {},
   "outputs": [],
   "source": [
    "import pandas as pd\n",
    "df = pd.read_csv('job-market.csv')\n",
    "top_10 = df.head(10)\n",
    "\n"
   ]
  },
  {
   "cell_type": "code",
   "execution_count": 10,
   "id": "21197fee-99e2-411f-b92b-1213fbb2f8e8",
   "metadata": {},
   "outputs": [
    {
     "data": {
      "text/plain": [
       "<AxesSubplot:xlabel='Id'>"
      ]
     },
     "execution_count": 10,
     "metadata": {},
     "output_type": "execute_result"
    },
    {
     "data": {
      "image/png": "[encoded data removed]",
      "text/plain": [
       "<Figure size 640x480 with 1 Axes>"
      ]
     },
     "metadata": {},
     "output_type": "display_data"
    }
   ],
   "source": [
    "top_10.plot(kind='bar', x='Id', y='HighestSalary')"
   ]
  },
  {
   "cell_type": "code",
   "execution_count": 13,
   "id": "d7f9eed7-a98b-4291-8dc2-634ce9d8557d",
   "metadata": {},
   "outputs": [],
   "source": [
    "df = df.dropna(subset=['HighestSalary'])\n"
   ]
  },
  {
   "cell_type": "code",
   "execution_count": 14,
   "id": "055e90a1-6936-4cbc-ac33-1c606408ecce",
   "metadata": {},
   "outputs": [],
   "source": [
    "df['HighestSalary'] = df['HighestSalary'].astype(int)\n"
   ]
  },
  {
   "cell_type": "code",
   "execution_count": 15,
   "id": "c40d4b5f-c8e1-4c0f-9d69-660ba77b22c2",
   "metadata": {},
   "outputs": [
    {
     "name": "stdout",
     "output_type": "stream",
     "text": [
      "Id                      0\n",
      "Title                   0\n",
      "Company               616\n",
      "Date                    0\n",
      "Location                0\n",
      "Area                 3707\n",
      "Classification          0\n",
      "SubClassification       0\n",
      "Requirement             0\n",
      "FullDescription       256\n",
      "LowestSalary            0\n",
      "HighestSalary           0\n",
      "JobType               247\n",
      "dtype: int64\n"
     ]
    }
   ],
   "source": [
    "print(df.isnull().sum())\n"
   ]
  },
  {
   "cell_type": "code",
   "execution_count": 16,
   "id": "29541706-5911-4ff7-8210-c3bffd6e6b27",
   "metadata": {},
   "outputs": [],
   "source": [
    "df = df.dropna()"
   ]
  },
  {
   "cell_type": "code",
   "execution_count": null,
   "id": "f03169d3-d3dc-4d09-859f-90323cb56962",
   "metadata": {},
   "outputs": [],
   "source": [
    "df = df.fillna(df.mean())"
   ]
  },
  {
   "cell_type": "code",
   "execution_count": 18,
   "id": "6ccee19e-5721-4068-9d6f-c386c3001d3e",
   "metadata": {},
   "outputs": [
    {
     "name": "stdout",
     "output_type": "stream",
     "text": [
      "0\n"
     ]
    }
   ],
   "source": [
    "print(df.duplicated().sum())\n"
   ]
  },
  {
   "cell_type": "code",
   "execution_count": 19,
   "id": "9786e61c-079c-4c49-940d-69e3f4c56cc2",
   "metadata": {},
   "outputs": [],
   "source": [
    "df = df.drop_duplicates()"
   ]
  },
  {
   "cell_type": "code",
   "execution_count": null,
   "id": "aa8ef273-7015-4ba5-9d25-1f4511234322",
   "metadata": {},
   "outputs": [],
   "source": [
    "import seaborn as"
   ]
  },
  {
   "cell_type": "code",
   "execution_count": null,
   "id": "6f56c48c-e952-40e9-bcc8-350cce34aafd",
   "metadata": {},
   "outputs": [],
   "source": [
    " sns.boxplot(x='col1', data=df)"
   ]
  },
  {
   "cell_type": "code",
   "execution_count": null,
   "id": "8b83e0b8-30a4-450a-b9a2-6cd4e183eb15",
   "metadata": {},
   "outputs": [],
   "source": [
    "df = df[(df['Id'] >= df['Id'].quantile(0.05)) & (df['Id'] <= df['Id'].quantile(0.95))]"
   ]
  },
  {
   "cell_type": "code",
   "execution_count": null,
   "id": "80731da2-ab22-4421-a720-8f189d9148ed",
   "metadata": {},
   "outputs": [],
   "source": [
    "print(df.head())\n",
    "\n",
    "print(df.describe())\n",
    "\n",
    "print(df.isnull().sum())\n",
    "\n",
    "print(df.duplicated().sum())"
   ]
  },
  {
   "cell_type": "code",
   "execution_count": null,
   "id": "28b52892-4238-4e5d-9be7-c443dc14acb5",
   "metadata": {},
   "outputs": [],
   "source": []
  }
 ],
 "metadata": {
  "kernelspec": {
   "display_name": "Python 3 (ipykernel)",
   "language": "python",
   "name": "python3"
  },
  "language_info": {
   "codemirror_mode": {
    "name": "ipython",
    "version": 3
   },
   "file_extension": ".py",
   "mimetype": "text/x-python",
   "name": "python",
   "nbconvert_exporter": "python",
   "pygments_lexer": "ipython3",
   "version": "3.9.13"
  }
 },
 "nbformat": 4,
 "nbformat_minor": 5
}
